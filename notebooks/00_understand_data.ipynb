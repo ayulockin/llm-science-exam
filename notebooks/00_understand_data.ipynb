{
 "cells": [
  {
   "cell_type": "code",
   "execution_count": 1,
   "id": "75aeb64f-156b-4fbb-8d5b-4d6bcf9e12e9",
   "metadata": {},
   "outputs": [],
   "source": [
    "%load_ext autoreload\n",
    "%autoreload 2"
   ]
  },
  {
   "cell_type": "code",
   "execution_count": 5,
   "id": "1c18d05e-519e-4ae4-98af-07da6cd4193d",
   "metadata": {},
   "outputs": [],
   "source": [
    "import wandb\n",
    "import pandas as pd"
   ]
  },
  {
   "cell_type": "code",
   "execution_count": 3,
   "id": "c4ea7e92-31e1-418b-86e9-7c5cb67cfe8f",
   "metadata": {},
   "outputs": [],
   "source": [
    "data = \"../data/train.csv\""
   ]
  },
  {
   "cell_type": "code",
   "execution_count": 4,
   "id": "c962d389-ced1-453a-892c-99f24b926079",
   "metadata": {},
   "outputs": [
    {
     "data": {
      "text/html": [
       "<div>\n",
       "<style scoped>\n",
       "    .dataframe tbody tr th:only-of-type {\n",
       "        vertical-align: middle;\n",
       "    }\n",
       "\n",
       "    .dataframe tbody tr th {\n",
       "        vertical-align: top;\n",
       "    }\n",
       "\n",
       "    .dataframe thead th {\n",
       "        text-align: right;\n",
       "    }\n",
       "</style>\n",
       "<table border=\"1\" class=\"dataframe\">\n",
       "  <thead>\n",
       "    <tr style=\"text-align: right;\">\n",
       "      <th></th>\n",
       "      <th>id</th>\n",
       "      <th>prompt</th>\n",
       "      <th>A</th>\n",
       "      <th>B</th>\n",
       "      <th>C</th>\n",
       "      <th>D</th>\n",
       "      <th>E</th>\n",
       "      <th>answer</th>\n",
       "    </tr>\n",
       "  </thead>\n",
       "  <tbody>\n",
       "    <tr>\n",
       "      <th>0</th>\n",
       "      <td>0</td>\n",
       "      <td>Which of the following statements accurately d...</td>\n",
       "      <td>MOND is a theory that reduces the observed mis...</td>\n",
       "      <td>MOND is a theory that increases the discrepanc...</td>\n",
       "      <td>MOND is a theory that explains the missing bar...</td>\n",
       "      <td>MOND is a theory that reduces the discrepancy ...</td>\n",
       "      <td>MOND is a theory that eliminates the observed ...</td>\n",
       "      <td>D</td>\n",
       "    </tr>\n",
       "    <tr>\n",
       "      <th>1</th>\n",
       "      <td>1</td>\n",
       "      <td>Which of the following is an accurate definiti...</td>\n",
       "      <td>Dynamic scaling refers to the evolution of sel...</td>\n",
       "      <td>Dynamic scaling refers to the non-evolution of...</td>\n",
       "      <td>Dynamic scaling refers to the evolution of sel...</td>\n",
       "      <td>Dynamic scaling refers to the non-evolution of...</td>\n",
       "      <td>Dynamic scaling refers to the evolution of sel...</td>\n",
       "      <td>A</td>\n",
       "    </tr>\n",
       "    <tr>\n",
       "      <th>2</th>\n",
       "      <td>2</td>\n",
       "      <td>Which of the following statements accurately d...</td>\n",
       "      <td>The triskeles symbol was reconstructed as a fe...</td>\n",
       "      <td>The triskeles symbol is a representation of th...</td>\n",
       "      <td>The triskeles symbol is a representation of a ...</td>\n",
       "      <td>The triskeles symbol represents three interloc...</td>\n",
       "      <td>The triskeles symbol is a representation of th...</td>\n",
       "      <td>A</td>\n",
       "    </tr>\n",
       "    <tr>\n",
       "      <th>3</th>\n",
       "      <td>3</td>\n",
       "      <td>What is the significance of regularization in ...</td>\n",
       "      <td>Regularizing the mass-energy of an electron wi...</td>\n",
       "      <td>Regularizing the mass-energy of an electron wi...</td>\n",
       "      <td>Regularizing the mass-energy of an electron wi...</td>\n",
       "      <td>Regularizing the mass-energy of an electron wi...</td>\n",
       "      <td>Regularizing the mass-energy of an electron wi...</td>\n",
       "      <td>C</td>\n",
       "    </tr>\n",
       "    <tr>\n",
       "      <th>4</th>\n",
       "      <td>4</td>\n",
       "      <td>Which of the following statements accurately d...</td>\n",
       "      <td>The angular spacing of features in the diffrac...</td>\n",
       "      <td>The angular spacing of features in the diffrac...</td>\n",
       "      <td>The angular spacing of features in the diffrac...</td>\n",
       "      <td>The angular spacing of features in the diffrac...</td>\n",
       "      <td>The angular spacing of features in the diffrac...</td>\n",
       "      <td>D</td>\n",
       "    </tr>\n",
       "    <tr>\n",
       "      <th>...</th>\n",
       "      <td>...</td>\n",
       "      <td>...</td>\n",
       "      <td>...</td>\n",
       "      <td>...</td>\n",
       "      <td>...</td>\n",
       "      <td>...</td>\n",
       "      <td>...</td>\n",
       "      <td>...</td>\n",
       "    </tr>\n",
       "    <tr>\n",
       "      <th>195</th>\n",
       "      <td>195</td>\n",
       "      <td>What is the relation between the three moment ...</td>\n",
       "      <td>The three moment theorem expresses the relatio...</td>\n",
       "      <td>The three moment theorem is used to calculate ...</td>\n",
       "      <td>The three moment theorem describes the relatio...</td>\n",
       "      <td>The three moment theorem is used to calculate ...</td>\n",
       "      <td>The three moment theorem is used to derive the...</td>\n",
       "      <td>C</td>\n",
       "    </tr>\n",
       "    <tr>\n",
       "      <th>196</th>\n",
       "      <td>196</td>\n",
       "      <td>What is the throttling process, and why is it ...</td>\n",
       "      <td>The throttling process is a steady flow of a f...</td>\n",
       "      <td>The throttling process is a steady adiabatic f...</td>\n",
       "      <td>The throttling process is a steady adiabatic f...</td>\n",
       "      <td>The throttling process is a steady flow of a f...</td>\n",
       "      <td>The throttling process is a steady adiabatic f...</td>\n",
       "      <td>B</td>\n",
       "    </tr>\n",
       "    <tr>\n",
       "      <th>197</th>\n",
       "      <td>197</td>\n",
       "      <td>What happens to excess base metal as a solutio...</td>\n",
       "      <td>The excess base metal will often solidify, bec...</td>\n",
       "      <td>The excess base metal will often crystallize-o...</td>\n",
       "      <td>The excess base metal will often dissolve, bec...</td>\n",
       "      <td>The excess base metal will often liquefy, beco...</td>\n",
       "      <td>The excess base metal will often evaporate, be...</td>\n",
       "      <td>B</td>\n",
       "    </tr>\n",
       "    <tr>\n",
       "      <th>198</th>\n",
       "      <td>198</td>\n",
       "      <td>What is the relationship between mass, force, ...</td>\n",
       "      <td>Mass is a property that determines the weight ...</td>\n",
       "      <td>Mass is an inertial property that determines a...</td>\n",
       "      <td>Mass is an inertial property that determines a...</td>\n",
       "      <td>Mass is an inertial property that determines a...</td>\n",
       "      <td>Mass is a property that determines the size of...</td>\n",
       "      <td>D</td>\n",
       "    </tr>\n",
       "    <tr>\n",
       "      <th>199</th>\n",
       "      <td>199</td>\n",
       "      <td>What did Arthur Eddington discover about two o...</td>\n",
       "      <td>Arthur Eddington showed that two of Einstein's...</td>\n",
       "      <td>Arthur Eddington showed that two of Einstein's...</td>\n",
       "      <td>Arthur Eddington showed that two of Einstein's...</td>\n",
       "      <td>Arthur Eddington showed that two of Einstein's...</td>\n",
       "      <td>Arthur Eddington showed that two of Einstein's...</td>\n",
       "      <td>C</td>\n",
       "    </tr>\n",
       "  </tbody>\n",
       "</table>\n",
       "<p>200 rows × 8 columns</p>\n",
       "</div>"
      ],
      "text/plain": [
       "      id                                             prompt  \\\n",
       "0      0  Which of the following statements accurately d...   \n",
       "1      1  Which of the following is an accurate definiti...   \n",
       "2      2  Which of the following statements accurately d...   \n",
       "3      3  What is the significance of regularization in ...   \n",
       "4      4  Which of the following statements accurately d...   \n",
       "..   ...                                                ...   \n",
       "195  195  What is the relation between the three moment ...   \n",
       "196  196  What is the throttling process, and why is it ...   \n",
       "197  197  What happens to excess base metal as a solutio...   \n",
       "198  198  What is the relationship between mass, force, ...   \n",
       "199  199  What did Arthur Eddington discover about two o...   \n",
       "\n",
       "                                                     A  \\\n",
       "0    MOND is a theory that reduces the observed mis...   \n",
       "1    Dynamic scaling refers to the evolution of sel...   \n",
       "2    The triskeles symbol was reconstructed as a fe...   \n",
       "3    Regularizing the mass-energy of an electron wi...   \n",
       "4    The angular spacing of features in the diffrac...   \n",
       "..                                                 ...   \n",
       "195  The three moment theorem expresses the relatio...   \n",
       "196  The throttling process is a steady flow of a f...   \n",
       "197  The excess base metal will often solidify, bec...   \n",
       "198  Mass is a property that determines the weight ...   \n",
       "199  Arthur Eddington showed that two of Einstein's...   \n",
       "\n",
       "                                                     B  \\\n",
       "0    MOND is a theory that increases the discrepanc...   \n",
       "1    Dynamic scaling refers to the non-evolution of...   \n",
       "2    The triskeles symbol is a representation of th...   \n",
       "3    Regularizing the mass-energy of an electron wi...   \n",
       "4    The angular spacing of features in the diffrac...   \n",
       "..                                                 ...   \n",
       "195  The three moment theorem is used to calculate ...   \n",
       "196  The throttling process is a steady adiabatic f...   \n",
       "197  The excess base metal will often crystallize-o...   \n",
       "198  Mass is an inertial property that determines a...   \n",
       "199  Arthur Eddington showed that two of Einstein's...   \n",
       "\n",
       "                                                     C  \\\n",
       "0    MOND is a theory that explains the missing bar...   \n",
       "1    Dynamic scaling refers to the evolution of sel...   \n",
       "2    The triskeles symbol is a representation of a ...   \n",
       "3    Regularizing the mass-energy of an electron wi...   \n",
       "4    The angular spacing of features in the diffrac...   \n",
       "..                                                 ...   \n",
       "195  The three moment theorem describes the relatio...   \n",
       "196  The throttling process is a steady adiabatic f...   \n",
       "197  The excess base metal will often dissolve, bec...   \n",
       "198  Mass is an inertial property that determines a...   \n",
       "199  Arthur Eddington showed that two of Einstein's...   \n",
       "\n",
       "                                                     D  \\\n",
       "0    MOND is a theory that reduces the discrepancy ...   \n",
       "1    Dynamic scaling refers to the non-evolution of...   \n",
       "2    The triskeles symbol represents three interloc...   \n",
       "3    Regularizing the mass-energy of an electron wi...   \n",
       "4    The angular spacing of features in the diffrac...   \n",
       "..                                                 ...   \n",
       "195  The three moment theorem is used to calculate ...   \n",
       "196  The throttling process is a steady flow of a f...   \n",
       "197  The excess base metal will often liquefy, beco...   \n",
       "198  Mass is an inertial property that determines a...   \n",
       "199  Arthur Eddington showed that two of Einstein's...   \n",
       "\n",
       "                                                     E answer  \n",
       "0    MOND is a theory that eliminates the observed ...      D  \n",
       "1    Dynamic scaling refers to the evolution of sel...      A  \n",
       "2    The triskeles symbol is a representation of th...      A  \n",
       "3    Regularizing the mass-energy of an electron wi...      C  \n",
       "4    The angular spacing of features in the diffrac...      D  \n",
       "..                                                 ...    ...  \n",
       "195  The three moment theorem is used to derive the...      C  \n",
       "196  The throttling process is a steady adiabatic f...      B  \n",
       "197  The excess base metal will often evaporate, be...      B  \n",
       "198  Mass is a property that determines the size of...      D  \n",
       "199  Arthur Eddington showed that two of Einstein's...      C  \n",
       "\n",
       "[200 rows x 8 columns]"
      ]
     },
     "execution_count": 4,
     "metadata": {},
     "output_type": "execute_result"
    }
   ],
   "source": [
    "df = pd.read_csv(data)\n",
    "df"
   ]
  },
  {
   "cell_type": "code",
   "execution_count": 6,
   "id": "6e9bc2ae-f0af-427d-a3c9-068ec36e71d1",
   "metadata": {},
   "outputs": [
    {
     "name": "stderr",
     "output_type": "stream",
     "text": [
      "\u001b[34m\u001b[1mwandb\u001b[0m: Currently logged in as: \u001b[33mayush-thakur\u001b[0m. Use \u001b[1m`wandb login --relogin`\u001b[0m to force relogin\n"
     ]
    },
    {
     "data": {
      "text/html": [
       "Tracking run with wandb version 0.15.8"
      ],
      "text/plain": [
       "<IPython.core.display.HTML object>"
      ]
     },
     "metadata": {},
     "output_type": "display_data"
    },
    {
     "data": {
      "text/html": [
       "Run data is saved locally in <code>/home/ayushthakur/llm-exam/llm-science-exam/notebooks/wandb/run-20230819_181308-oz9fempg</code>"
      ],
      "text/plain": [
       "<IPython.core.display.HTML object>"
      ]
     },
     "metadata": {},
     "output_type": "display_data"
    },
    {
     "data": {
      "text/html": [
       "Syncing run <strong><a href='https://wandb.ai/ayush-thakur/llm-exam/runs/oz9fempg' target=\"_blank\">dazzling-pyramid-1</a></strong> to <a href='https://wandb.ai/ayush-thakur/llm-exam' target=\"_blank\">Weights & Biases</a> (<a href='https://wandb.me/run' target=\"_blank\">docs</a>)<br/>"
      ],
      "text/plain": [
       "<IPython.core.display.HTML object>"
      ]
     },
     "metadata": {},
     "output_type": "display_data"
    },
    {
     "data": {
      "text/html": [
       " View project at <a href='https://wandb.ai/ayush-thakur/llm-exam' target=\"_blank\">https://wandb.ai/ayush-thakur/llm-exam</a>"
      ],
      "text/plain": [
       "<IPython.core.display.HTML object>"
      ]
     },
     "metadata": {},
     "output_type": "display_data"
    },
    {
     "data": {
      "text/html": [
       " View run at <a href='https://wandb.ai/ayush-thakur/llm-exam/runs/oz9fempg' target=\"_blank\">https://wandb.ai/ayush-thakur/llm-exam/runs/oz9fempg</a>"
      ],
      "text/plain": [
       "<IPython.core.display.HTML object>"
      ]
     },
     "metadata": {},
     "output_type": "display_data"
    },
    {
     "data": {
      "text/html": [
       "Waiting for W&B process to finish... <strong style=\"color:green\">(success).</strong>"
      ],
      "text/plain": [
       "<IPython.core.display.HTML object>"
      ]
     },
     "metadata": {},
     "output_type": "display_data"
    },
    {
     "data": {
      "text/html": [
       " View run <strong style=\"color:#cdcd00\">dazzling-pyramid-1</strong> at: <a href='https://wandb.ai/ayush-thakur/llm-exam/runs/oz9fempg' target=\"_blank\">https://wandb.ai/ayush-thakur/llm-exam/runs/oz9fempg</a><br/> View job at <a href='https://wandb.ai/ayush-thakur/llm-exam/jobs/QXJ0aWZhY3RDb2xsZWN0aW9uOjkxNTEzMTY4/version_details/v0' target=\"_blank\">https://wandb.ai/ayush-thakur/llm-exam/jobs/QXJ0aWZhY3RDb2xsZWN0aW9uOjkxNTEzMTY4/version_details/v0</a><br/>Synced 5 W&B file(s), 1 media file(s), 4 artifact file(s) and 1 other file(s)"
      ],
      "text/plain": [
       "<IPython.core.display.HTML object>"
      ]
     },
     "metadata": {},
     "output_type": "display_data"
    },
    {
     "data": {
      "text/html": [
       "Find logs at: <code>./wandb/run-20230819_181308-oz9fempg/logs</code>"
      ],
      "text/plain": [
       "<IPython.core.display.HTML object>"
      ]
     },
     "metadata": {},
     "output_type": "display_data"
    }
   ],
   "source": [
    "run = wandb.init(project=\"llm-exam\", job_type=\"data\")\n",
    "wandb.log({\"data_200\": df})\n",
    "run.finish()"
   ]
  },
  {
   "cell_type": "markdown",
   "id": "089e6404-ed35-4108-8fb0-d0cf2a4ab866",
   "metadata": {},
   "source": [
    "## Extra Data\n",
    "\n",
    "\n",
    "/home/ayushthakur/llm-exam/llm-science-exam/data/train_1k_leonidkulyk.csv\n",
    "/home/ayushthakur/llm-exam/llm-science-exam/data/train_3k_gigkpeaeums.csv\n",
    "/home/ayushthakur/llm-exam/llm-science-exam/data/train_6k_radek.csv\n",
    "/home/ayushthakur/llm-exam/llm-science-exam/data/train_500_radek.csv\n",
    "/home/ayushthakur/llm-exam/llm-science-exam/citations.txt"
   ]
  },
  {
   "cell_type": "code",
   "execution_count": 19,
   "id": "557e0619-2677-4a65-91d5-0b6edd4eb437",
   "metadata": {},
   "outputs": [],
   "source": [
    "df1 = pd.read_csv(\"../data/train_1k_leonidkulyk.csv\").drop(['id'], axis=1)\n",
    "df2 = pd.read_csv(\"../data/train_3k_gigkpeaeums.csv\").drop(['id'], axis=1)\n",
    "df3 = pd.read_csv(\"../data/train_6k_radek.csv\")\n",
    "df4 = pd.read_csv(\"../data/train_500_radek.csv\")"
   ]
  },
  {
   "cell_type": "code",
   "execution_count": 20,
   "id": "786dd2f9-3c75-4128-b986-0548d937ea3f",
   "metadata": {},
   "outputs": [],
   "source": [
    "df_final = pd.concat([df1, df2, df3, df4])"
   ]
  },
  {
   "cell_type": "code",
   "execution_count": 21,
   "id": "e749c4fd-0396-49ff-863f-802d453af00a",
   "metadata": {},
   "outputs": [
    {
     "data": {
      "text/html": [
       "<div>\n",
       "<style scoped>\n",
       "    .dataframe tbody tr th:only-of-type {\n",
       "        vertical-align: middle;\n",
       "    }\n",
       "\n",
       "    .dataframe tbody tr th {\n",
       "        vertical-align: top;\n",
       "    }\n",
       "\n",
       "    .dataframe thead th {\n",
       "        text-align: right;\n",
       "    }\n",
       "</style>\n",
       "<table border=\"1\" class=\"dataframe\">\n",
       "  <thead>\n",
       "    <tr style=\"text-align: right;\">\n",
       "      <th></th>\n",
       "      <th>prompt</th>\n",
       "      <th>A</th>\n",
       "      <th>B</th>\n",
       "      <th>C</th>\n",
       "      <th>D</th>\n",
       "      <th>E</th>\n",
       "      <th>answer</th>\n",
       "    </tr>\n",
       "  </thead>\n",
       "  <tbody>\n",
       "    <tr>\n",
       "      <th>0</th>\n",
       "      <td>Who is the dean of the University of Central F...</td>\n",
       "      <td>John Doe</td>\n",
       "      <td>Michael Georgiopoulos</td>\n",
       "      <td>Jane Smith</td>\n",
       "      <td>Robert Johnson</td>\n",
       "      <td>David Brown</td>\n",
       "      <td>B</td>\n",
       "    </tr>\n",
       "  </tbody>\n",
       "</table>\n",
       "</div>"
      ],
      "text/plain": [
       "                                              prompt         A  \\\n",
       "0  Who is the dean of the University of Central F...  John Doe   \n",
       "\n",
       "                       B           C               D            E answer  \n",
       "0  Michael Georgiopoulos  Jane Smith  Robert Johnson  David Brown      B  "
      ]
     },
     "execution_count": 21,
     "metadata": {},
     "output_type": "execute_result"
    }
   ],
   "source": [
    "df1.head(1)"
   ]
  },
  {
   "cell_type": "code",
   "execution_count": 22,
   "id": "4c78ab4e-8a7a-4a1c-9868-77cb4ab6fba4",
   "metadata": {},
   "outputs": [
    {
     "data": {
      "text/html": [
       "<div>\n",
       "<style scoped>\n",
       "    .dataframe tbody tr th:only-of-type {\n",
       "        vertical-align: middle;\n",
       "    }\n",
       "\n",
       "    .dataframe tbody tr th {\n",
       "        vertical-align: top;\n",
       "    }\n",
       "\n",
       "    .dataframe thead th {\n",
       "        text-align: right;\n",
       "    }\n",
       "</style>\n",
       "<table border=\"1\" class=\"dataframe\">\n",
       "  <thead>\n",
       "    <tr style=\"text-align: right;\">\n",
       "      <th></th>\n",
       "      <th>prompt</th>\n",
       "      <th>A</th>\n",
       "      <th>B</th>\n",
       "      <th>C</th>\n",
       "      <th>D</th>\n",
       "      <th>E</th>\n",
       "      <th>answer</th>\n",
       "    </tr>\n",
       "  </thead>\n",
       "  <tbody>\n",
       "    <tr>\n",
       "      <th>0</th>\n",
       "      <td>What is the typical duration of a vinyl album?</td>\n",
       "      <td>5 to 10 minutes per side</td>\n",
       "      <td>15 to 25 minutes per side</td>\n",
       "      <td>30 to 40 minutes per side</td>\n",
       "      <td>45 to 55 minutes per side</td>\n",
       "      <td>60 to 70 minutes per side</td>\n",
       "      <td>B</td>\n",
       "    </tr>\n",
       "  </tbody>\n",
       "</table>\n",
       "</div>"
      ],
      "text/plain": [
       "                                           prompt                         A  \\\n",
       "0  What is the typical duration of a vinyl album?  5 to 10 minutes per side   \n",
       "\n",
       "                           B                          C  \\\n",
       "0  15 to 25 minutes per side  30 to 40 minutes per side   \n",
       "\n",
       "                           D                          E answer  \n",
       "0  45 to 55 minutes per side  60 to 70 minutes per side      B  "
      ]
     },
     "execution_count": 22,
     "metadata": {},
     "output_type": "execute_result"
    }
   ],
   "source": [
    "df2.head(1)"
   ]
  },
  {
   "cell_type": "code",
   "execution_count": 23,
   "id": "7ecbff1f-8784-4ada-9f0e-34ea091b5cb7",
   "metadata": {},
   "outputs": [
    {
     "data": {
      "text/html": [
       "<div>\n",
       "<style scoped>\n",
       "    .dataframe tbody tr th:only-of-type {\n",
       "        vertical-align: middle;\n",
       "    }\n",
       "\n",
       "    .dataframe tbody tr th {\n",
       "        vertical-align: top;\n",
       "    }\n",
       "\n",
       "    .dataframe thead th {\n",
       "        text-align: right;\n",
       "    }\n",
       "</style>\n",
       "<table border=\"1\" class=\"dataframe\">\n",
       "  <thead>\n",
       "    <tr style=\"text-align: right;\">\n",
       "      <th></th>\n",
       "      <th>prompt</th>\n",
       "      <th>A</th>\n",
       "      <th>B</th>\n",
       "      <th>C</th>\n",
       "      <th>D</th>\n",
       "      <th>E</th>\n",
       "      <th>answer</th>\n",
       "    </tr>\n",
       "  </thead>\n",
       "  <tbody>\n",
       "    <tr>\n",
       "      <th>0</th>\n",
       "      <td>What is the primary role of Robin Juhkental in...</td>\n",
       "      <td>Robin Juhkental is the bassist of Malcolm Linc...</td>\n",
       "      <td>Robin Juhkental is the keyboardist of Malcolm ...</td>\n",
       "      <td>Robin Juhkental is the drummer of Malcolm Linc...</td>\n",
       "      <td>Robin Juhkental is the lead singer of Malcolm ...</td>\n",
       "      <td>Robin Juhkental is the lead guitarist of Malco...</td>\n",
       "      <td>D</td>\n",
       "    </tr>\n",
       "  </tbody>\n",
       "</table>\n",
       "</div>"
      ],
      "text/plain": [
       "                                              prompt  \\\n",
       "0  What is the primary role of Robin Juhkental in...   \n",
       "\n",
       "                                                   A  \\\n",
       "0  Robin Juhkental is the bassist of Malcolm Linc...   \n",
       "\n",
       "                                                   B  \\\n",
       "0  Robin Juhkental is the keyboardist of Malcolm ...   \n",
       "\n",
       "                                                   C  \\\n",
       "0  Robin Juhkental is the drummer of Malcolm Linc...   \n",
       "\n",
       "                                                   D  \\\n",
       "0  Robin Juhkental is the lead singer of Malcolm ...   \n",
       "\n",
       "                                                   E answer  \n",
       "0  Robin Juhkental is the lead guitarist of Malco...      D  "
      ]
     },
     "execution_count": 23,
     "metadata": {},
     "output_type": "execute_result"
    }
   ],
   "source": [
    "df3.head(1)"
   ]
  },
  {
   "cell_type": "code",
   "execution_count": 24,
   "id": "386697b2-954e-4895-8d45-867c06b157a1",
   "metadata": {},
   "outputs": [
    {
     "data": {
      "text/html": [
       "<div>\n",
       "<style scoped>\n",
       "    .dataframe tbody tr th:only-of-type {\n",
       "        vertical-align: middle;\n",
       "    }\n",
       "\n",
       "    .dataframe tbody tr th {\n",
       "        vertical-align: top;\n",
       "    }\n",
       "\n",
       "    .dataframe thead th {\n",
       "        text-align: right;\n",
       "    }\n",
       "</style>\n",
       "<table border=\"1\" class=\"dataframe\">\n",
       "  <thead>\n",
       "    <tr style=\"text-align: right;\">\n",
       "      <th></th>\n",
       "      <th>prompt</th>\n",
       "      <th>C</th>\n",
       "      <th>E</th>\n",
       "      <th>D</th>\n",
       "      <th>B</th>\n",
       "      <th>A</th>\n",
       "      <th>answer</th>\n",
       "    </tr>\n",
       "  </thead>\n",
       "  <tbody>\n",
       "    <tr>\n",
       "      <th>0</th>\n",
       "      <td>In relation to Eunice Fay McKenzie's career, w...</td>\n",
       "      <td>McKenzie gained recognition for her role as a ...</td>\n",
       "      <td>McKenzie's successful career in sound films co...</td>\n",
       "      <td>McKenzie's collaborations with director Blake ...</td>\n",
       "      <td>McKenzie is primarily remembered for her starr...</td>\n",
       "      <td>McKenzie showcased her singing talents in nume...</td>\n",
       "      <td>B</td>\n",
       "    </tr>\n",
       "  </tbody>\n",
       "</table>\n",
       "</div>"
      ],
      "text/plain": [
       "                                              prompt  \\\n",
       "0  In relation to Eunice Fay McKenzie's career, w...   \n",
       "\n",
       "                                                   C  \\\n",
       "0  McKenzie gained recognition for her role as a ...   \n",
       "\n",
       "                                                   E  \\\n",
       "0  McKenzie's successful career in sound films co...   \n",
       "\n",
       "                                                   D  \\\n",
       "0  McKenzie's collaborations with director Blake ...   \n",
       "\n",
       "                                                   B  \\\n",
       "0  McKenzie is primarily remembered for her starr...   \n",
       "\n",
       "                                                   A answer  \n",
       "0  McKenzie showcased her singing talents in nume...      B  "
      ]
     },
     "execution_count": 24,
     "metadata": {},
     "output_type": "execute_result"
    }
   ],
   "source": [
    "df4.head(1)"
   ]
  },
  {
   "cell_type": "code",
   "execution_count": 25,
   "id": "57712d80-9e83-4703-8283-0ad167225f98",
   "metadata": {},
   "outputs": [
    {
     "data": {
      "text/html": [
       "<div>\n",
       "<style scoped>\n",
       "    .dataframe tbody tr th:only-of-type {\n",
       "        vertical-align: middle;\n",
       "    }\n",
       "\n",
       "    .dataframe tbody tr th {\n",
       "        vertical-align: top;\n",
       "    }\n",
       "\n",
       "    .dataframe thead th {\n",
       "        text-align: right;\n",
       "    }\n",
       "</style>\n",
       "<table border=\"1\" class=\"dataframe\">\n",
       "  <thead>\n",
       "    <tr style=\"text-align: right;\">\n",
       "      <th></th>\n",
       "      <th>prompt</th>\n",
       "      <th>A</th>\n",
       "      <th>B</th>\n",
       "      <th>C</th>\n",
       "      <th>D</th>\n",
       "      <th>E</th>\n",
       "      <th>answer</th>\n",
       "    </tr>\n",
       "  </thead>\n",
       "  <tbody>\n",
       "    <tr>\n",
       "      <th>0</th>\n",
       "      <td>Who is the dean of the University of Central F...</td>\n",
       "      <td>John Doe</td>\n",
       "      <td>Michael Georgiopoulos</td>\n",
       "      <td>Jane Smith</td>\n",
       "      <td>Robert Johnson</td>\n",
       "      <td>David Brown</td>\n",
       "      <td>B</td>\n",
       "    </tr>\n",
       "    <tr>\n",
       "      <th>1</th>\n",
       "      <td>What degrees does the college offer?</td>\n",
       "      <td>Engineering and computer science</td>\n",
       "      <td>Business and economics</td>\n",
       "      <td>Psychology and sociology</td>\n",
       "      <td>Mathematics and statistics</td>\n",
       "      <td>Arts and humanities</td>\n",
       "      <td>A</td>\n",
       "    </tr>\n",
       "    <tr>\n",
       "      <th>2</th>\n",
       "      <td>How many undergraduate and graduate students w...</td>\n",
       "      <td>Over 5,000</td>\n",
       "      <td>Over 10,000</td>\n",
       "      <td>Over 7,500</td>\n",
       "      <td>Over 3,000</td>\n",
       "      <td>Over 15,000</td>\n",
       "      <td>C</td>\n",
       "    </tr>\n",
       "    <tr>\n",
       "      <th>3</th>\n",
       "      <td>What is the University of Central Florida list...</td>\n",
       "      <td>A liberal arts college</td>\n",
       "      <td>A research university</td>\n",
       "      <td>An Ivy League institution</td>\n",
       "      <td>A community college</td>\n",
       "      <td>A vocational school</td>\n",
       "      <td>B</td>\n",
       "    </tr>\n",
       "    <tr>\n",
       "      <th>4</th>\n",
       "      <td>What are some of the research contributions ma...</td>\n",
       "      <td>Architecture and design</td>\n",
       "      <td>Medicine and healthcare</td>\n",
       "      <td>Environmental science</td>\n",
       "      <td>Modeling and simulation</td>\n",
       "      <td>Linguistics and literature</td>\n",
       "      <td>D</td>\n",
       "    </tr>\n",
       "    <tr>\n",
       "      <th>...</th>\n",
       "      <td>...</td>\n",
       "      <td>...</td>\n",
       "      <td>...</td>\n",
       "      <td>...</td>\n",
       "      <td>...</td>\n",
       "      <td>...</td>\n",
       "      <td>...</td>\n",
       "    </tr>\n",
       "    <tr>\n",
       "      <th>495</th>\n",
       "      <td>How many different teams has Justis Logan Morr...</td>\n",
       "      <td>Seven</td>\n",
       "      <td>Nine</td>\n",
       "      <td>Ten</td>\n",
       "      <td>Five</td>\n",
       "      <td>Three</td>\n",
       "      <td>D</td>\n",
       "    </tr>\n",
       "    <tr>\n",
       "      <th>496</th>\n",
       "      <td>What is the significance of the cast iron wate...</td>\n",
       "      <td>The cast iron water pump is a remnant from the...</td>\n",
       "      <td>The cast iron water pump has no historical sig...</td>\n",
       "      <td>The cast iron water pump was installed on the ...</td>\n",
       "      <td>The cast iron water pump served as a decorativ...</td>\n",
       "      <td>The cast iron water pump was a functional tool...</td>\n",
       "      <td>C</td>\n",
       "    </tr>\n",
       "    <tr>\n",
       "      <th>497</th>\n",
       "      <td>What is the main characteristic of Cladosporiu...</td>\n",
       "      <td>Its spores are not the usual cause of seasonal...</td>\n",
       "      <td>It is able to grow under low water conditions ...</td>\n",
       "      <td>It can only grow in locations with high water ...</td>\n",
       "      <td>It only attacks the leaves of plants while spa...</td>\n",
       "      <td>It is classified as a bacteria that causes inv...</td>\n",
       "      <td>B</td>\n",
       "    </tr>\n",
       "    <tr>\n",
       "      <th>498</th>\n",
       "      <td>What influence is noted in the work of Francho...</td>\n",
       "      <td>Elaut's work shows the influence of Abstract E...</td>\n",
       "      <td>Elaut's work shows the influence of other Haar...</td>\n",
       "      <td>Elaut's work shows the influence of French Imp...</td>\n",
       "      <td>Elaut's work shows the influence of Flemish Ba...</td>\n",
       "      <td>Elaut's work shows the influence of Italian Re...</td>\n",
       "      <td>B</td>\n",
       "    </tr>\n",
       "    <tr>\n",
       "      <th>499</th>\n",
       "      <td>What is the significance of Groot Aub?</td>\n",
       "      <td>Groot Aub is a major tourist destination renow...</td>\n",
       "      <td>Groot Aub is a historical site known for its a...</td>\n",
       "      <td>Groot Aub is a settlement that serves as the c...</td>\n",
       "      <td>Groot Aub is a wildlife sanctuary housing a po...</td>\n",
       "      <td>Groot Aub is a town renowned for its thriving ...</td>\n",
       "      <td>C</td>\n",
       "    </tr>\n",
       "  </tbody>\n",
       "</table>\n",
       "<p>10751 rows × 7 columns</p>\n",
       "</div>"
      ],
      "text/plain": [
       "                                                prompt  \\\n",
       "0    Who is the dean of the University of Central F...   \n",
       "1                 What degrees does the college offer?   \n",
       "2    How many undergraduate and graduate students w...   \n",
       "3    What is the University of Central Florida list...   \n",
       "4    What are some of the research contributions ma...   \n",
       "..                                                 ...   \n",
       "495  How many different teams has Justis Logan Morr...   \n",
       "496  What is the significance of the cast iron wate...   \n",
       "497  What is the main characteristic of Cladosporiu...   \n",
       "498  What influence is noted in the work of Francho...   \n",
       "499             What is the significance of Groot Aub?   \n",
       "\n",
       "                                                     A  \\\n",
       "0                                             John Doe   \n",
       "1                     Engineering and computer science   \n",
       "2                                           Over 5,000   \n",
       "3                               A liberal arts college   \n",
       "4                              Architecture and design   \n",
       "..                                                 ...   \n",
       "495                                              Seven   \n",
       "496  The cast iron water pump is a remnant from the...   \n",
       "497  Its spores are not the usual cause of seasonal...   \n",
       "498  Elaut's work shows the influence of Abstract E...   \n",
       "499  Groot Aub is a major tourist destination renow...   \n",
       "\n",
       "                                                     B  \\\n",
       "0                                Michael Georgiopoulos   \n",
       "1                               Business and economics   \n",
       "2                                          Over 10,000   \n",
       "3                                A research university   \n",
       "4                              Medicine and healthcare   \n",
       "..                                                 ...   \n",
       "495                                               Nine   \n",
       "496  The cast iron water pump has no historical sig...   \n",
       "497  It is able to grow under low water conditions ...   \n",
       "498  Elaut's work shows the influence of other Haar...   \n",
       "499  Groot Aub is a historical site known for its a...   \n",
       "\n",
       "                                                     C  \\\n",
       "0                                           Jane Smith   \n",
       "1                             Psychology and sociology   \n",
       "2                                           Over 7,500   \n",
       "3                            An Ivy League institution   \n",
       "4                                Environmental science   \n",
       "..                                                 ...   \n",
       "495                                                Ten   \n",
       "496  The cast iron water pump was installed on the ...   \n",
       "497  It can only grow in locations with high water ...   \n",
       "498  Elaut's work shows the influence of French Imp...   \n",
       "499  Groot Aub is a settlement that serves as the c...   \n",
       "\n",
       "                                                     D  \\\n",
       "0                                       Robert Johnson   \n",
       "1                           Mathematics and statistics   \n",
       "2                                           Over 3,000   \n",
       "3                                  A community college   \n",
       "4                              Modeling and simulation   \n",
       "..                                                 ...   \n",
       "495                                               Five   \n",
       "496  The cast iron water pump served as a decorativ...   \n",
       "497  It only attacks the leaves of plants while spa...   \n",
       "498  Elaut's work shows the influence of Flemish Ba...   \n",
       "499  Groot Aub is a wildlife sanctuary housing a po...   \n",
       "\n",
       "                                                     E answer  \n",
       "0                                          David Brown      B  \n",
       "1                                  Arts and humanities      A  \n",
       "2                                          Over 15,000      C  \n",
       "3                                  A vocational school      B  \n",
       "4                           Linguistics and literature      D  \n",
       "..                                                 ...    ...  \n",
       "495                                              Three      D  \n",
       "496  The cast iron water pump was a functional tool...      C  \n",
       "497  It is classified as a bacteria that causes inv...      B  \n",
       "498  Elaut's work shows the influence of Italian Re...      B  \n",
       "499  Groot Aub is a town renowned for its thriving ...      C  \n",
       "\n",
       "[10751 rows x 7 columns]"
      ]
     },
     "execution_count": 25,
     "metadata": {},
     "output_type": "execute_result"
    }
   ],
   "source": [
    "df_final"
   ]
  },
  {
   "cell_type": "code",
   "execution_count": 26,
   "id": "488b174e-a59e-4360-9a54-5676a00c92b8",
   "metadata": {},
   "outputs": [
    {
     "data": {
      "text/html": [
       "Tracking run with wandb version 0.15.8"
      ],
      "text/plain": [
       "<IPython.core.display.HTML object>"
      ]
     },
     "metadata": {},
     "output_type": "display_data"
    },
    {
     "data": {
      "text/html": [
       "Run data is saved locally in <code>/home/ayushthakur/llm-exam/llm-science-exam/notebooks/wandb/run-20230819_192108-d5pxueqa</code>"
      ],
      "text/plain": [
       "<IPython.core.display.HTML object>"
      ]
     },
     "metadata": {},
     "output_type": "display_data"
    },
    {
     "data": {
      "text/html": [
       "Syncing run <strong><a href='https://wandb.ai/ayush-thakur/llm-exam/runs/d5pxueqa' target=\"_blank\">brisk-thunder-2</a></strong> to <a href='https://wandb.ai/ayush-thakur/llm-exam' target=\"_blank\">Weights & Biases</a> (<a href='https://wandb.me/run' target=\"_blank\">docs</a>)<br/>"
      ],
      "text/plain": [
       "<IPython.core.display.HTML object>"
      ]
     },
     "metadata": {},
     "output_type": "display_data"
    },
    {
     "data": {
      "text/html": [
       " View project at <a href='https://wandb.ai/ayush-thakur/llm-exam' target=\"_blank\">https://wandb.ai/ayush-thakur/llm-exam</a>"
      ],
      "text/plain": [
       "<IPython.core.display.HTML object>"
      ]
     },
     "metadata": {},
     "output_type": "display_data"
    },
    {
     "data": {
      "text/html": [
       " View run at <a href='https://wandb.ai/ayush-thakur/llm-exam/runs/d5pxueqa' target=\"_blank\">https://wandb.ai/ayush-thakur/llm-exam/runs/d5pxueqa</a>"
      ],
      "text/plain": [
       "<IPython.core.display.HTML object>"
      ]
     },
     "metadata": {},
     "output_type": "display_data"
    },
    {
     "data": {
      "text/html": [
       "Waiting for W&B process to finish... <strong style=\"color:green\">(success).</strong>"
      ],
      "text/plain": [
       "<IPython.core.display.HTML object>"
      ]
     },
     "metadata": {},
     "output_type": "display_data"
    },
    {
     "data": {
      "text/html": [
       " View run <strong style=\"color:#cdcd00\">brisk-thunder-2</strong> at: <a href='https://wandb.ai/ayush-thakur/llm-exam/runs/d5pxueqa' target=\"_blank\">https://wandb.ai/ayush-thakur/llm-exam/runs/d5pxueqa</a><br/> View job at <a href='https://wandb.ai/ayush-thakur/llm-exam/jobs/QXJ0aWZhY3RDb2xsZWN0aW9uOjkxNTEzMTY4/version_details/v1' target=\"_blank\">https://wandb.ai/ayush-thakur/llm-exam/jobs/QXJ0aWZhY3RDb2xsZWN0aW9uOjkxNTEzMTY4/version_details/v1</a><br/>Synced 5 W&B file(s), 1 media file(s), 4 artifact file(s) and 1 other file(s)"
      ],
      "text/plain": [
       "<IPython.core.display.HTML object>"
      ]
     },
     "metadata": {},
     "output_type": "display_data"
    },
    {
     "data": {
      "text/html": [
       "Find logs at: <code>./wandb/run-20230819_192108-d5pxueqa/logs</code>"
      ],
      "text/plain": [
       "<IPython.core.display.HTML object>"
      ]
     },
     "metadata": {},
     "output_type": "display_data"
    }
   ],
   "source": [
    "run = wandb.init(project=\"llm-exam\", job_type=\"data\")\n",
    "wandb.log({\"extra_data_v1\": df_final})\n",
    "run.finish()"
   ]
  },
  {
   "cell_type": "code",
   "execution_count": 27,
   "id": "b20a28f4-a978-4068-9ad7-ab14ccdd20f2",
   "metadata": {},
   "outputs": [],
   "source": [
    "df_final.to_csv(\"../data/train_extra_data.csv\", index=False)"
   ]
  },
  {
   "cell_type": "code",
   "execution_count": null,
   "id": "316b3119-9931-4a74-a374-723d0d2efa94",
   "metadata": {},
   "outputs": [],
   "source": []
  }
 ],
 "metadata": {
  "kernelspec": {
   "display_name": "Python 3 (ipykernel)",
   "language": "python",
   "name": "python3"
  },
  "language_info": {
   "codemirror_mode": {
    "name": "ipython",
    "version": 3
   },
   "file_extension": ".py",
   "mimetype": "text/x-python",
   "name": "python",
   "nbconvert_exporter": "python",
   "pygments_lexer": "ipython3",
   "version": "3.10.0"
  }
 },
 "nbformat": 4,
 "nbformat_minor": 5
}
