{
 "cells": [
  {
   "cell_type": "code",
   "execution_count": 1,
   "id": "217414c8-6b3f-41b9-a7c2-62dddb1e30a4",
   "metadata": {},
   "outputs": [],
   "source": [
    "%load_ext autoreload\n",
    "%autoreload 2"
   ]
  },
  {
   "cell_type": "code",
   "execution_count": 3,
   "id": "8aad447c-e925-4c96-b166-1b3a8d431b0c",
   "metadata": {},
   "outputs": [],
   "source": [
    "import os\n",
    "os.environ[\"KERAS_BACKEND\"] = \"tensorflow\"  # or \"tensorflow\" or \"torch\"\n",
    "# os.environ[\"WANDB_SILENT\"] = \"false\" # for wandb\n",
    "\n",
    "import keras_nlp\n",
    "import keras_core as keras \n",
    "import keras_core.backend as K\n",
    "\n",
    "\n",
    "# import torch\n",
    "# import jax\n",
    "import tensorflow as tf\n",
    "# from tensorflow import keras\n",
    "# import tensorflow.keras.backend as K\n",
    "\n",
    "import numpy as np \n",
    "import pandas as pd"
   ]
  },
  {
   "cell_type": "code",
   "execution_count": 4,
   "id": "11cc4721-08c8-4816-a25a-e3bdd0aa9e29",
   "metadata": {},
   "outputs": [
    {
     "name": "stdout",
     "output_type": "stream",
     "text": [
      "TensorFlow: 2.13.0\n",
      "Keras: 0.1.4\n",
      "KerasNLP: 0.6.1\n"
     ]
    }
   ],
   "source": [
    "print(\"TensorFlow:\", tf.__version__)\n",
    "print(\"Keras:\", keras.__version__)\n",
    "print(\"KerasNLP:\", keras_nlp.__version__)"
   ]
  },
  {
   "cell_type": "code",
   "execution_count": 5,
   "id": "2ab22066-cef1-497f-ac21-343698ef1254",
   "metadata": {},
   "outputs": [],
   "source": [
    "class CFG:\n",
    "    verbose = 0  # Verbosity\n",
    "    wandb = True  # Weights & Biases logging\n",
    "    competition = 'kaggle-llm-science-exam'  # Competition name\n",
    "    \n",
    "    preset = \"deberta_v3_base_en\"  # Name of pretrained models\n",
    "    sequence_length = 200  # Input sequence length\n",
    "    \n",
    "    device = 'GPU'  # Device\n",
    "    \n",
    "    seed = 42  # Random seed\n",
    "    \n",
    "    num_folds = 5  # Total folds\n",
    "    selected_folds = [1, 2]  # Folds to train on\n",
    "    \n",
    "    epochs = 10  # Training epochs\n",
    "    batch_size = 2  # Batch size\n",
    "    drop_remainder = True  # Drop incomplete batches\n",
    "    cache = True # Caches data after one iteration, use only with `TPU` to avoid OOM\n",
    "    \n",
    "    augment = True # Augmentation (Shuffle Options)\n",
    "    \n",
    "    scheduler = 'cosine'  # Learning rate scheduler\n",
    "    \n",
    "    external_data = True  # External data flag\n",
    "    \n",
    "    class_names = list(\"ABCDE\")  # Class names [A, B, C, D, E]\n",
    "    num_classes = len(class_names)  # Number of classes\n",
    "    class_labels = list(range(num_classes))  # Class labels [0, 1, 2, 3, 4]\n",
    "    label2name = dict(zip(class_labels, class_names))  # Label to class name mapping\n",
    "    name2label = {v: k for k, v in label2name.items()}  # Class name to label mapping"
   ]
  },
  {
   "cell_type": "code",
   "execution_count": 7,
   "id": "5eca4e41-3ac1-41fb-88d2-77a116d6d81d",
   "metadata": {},
   "outputs": [
    {
     "name": "stdout",
     "output_type": "stream",
     "text": [
      "INFO:tensorflow:Using MirroredStrategy with devices ('/job:localhost/replica:0/task:0/device:GPU:0',)\n",
      "> Running on GPU | Num of GPUs:  1\n"
     ]
    }
   ],
   "source": [
    "def get_device():\n",
    "    \"Detect and intializes GPU/TPU automatically\"\n",
    "    try:\n",
    "        # Connect to TPU\n",
    "        tpu = tf.distribute.cluster_resolver.TPUClusterResolver.connect() \n",
    "        # Set TPU strategy\n",
    "        strategy = tf.distribute.TPUStrategy(tpu)\n",
    "        print(f'> Running on TPU', tpu.master(), end=' | ')\n",
    "        print('Num of TPUs: ', strategy.num_replicas_in_sync)\n",
    "        device=CFG.device\n",
    "    except:\n",
    "        # If TPU is not available, detect GPUs\n",
    "        gpus = tf.config.list_logical_devices('GPU')\n",
    "        ngpu = len(gpus)\n",
    "         # Check number of GPUs\n",
    "        if ngpu:\n",
    "            # Set GPU strategy\n",
    "            strategy = tf.distribute.MirroredStrategy(gpus) # single-GPU or multi-GPU\n",
    "            # Print GPU details\n",
    "            print(\"> Running on GPU\", end=' | ')\n",
    "            print(\"Num of GPUs: \", ngpu)\n",
    "            device='GPU'\n",
    "        else:\n",
    "            # If no GPUs are available, use CPU\n",
    "            print(\"> Running on CPU\")\n",
    "            strategy = tf.distribute.get_strategy()\n",
    "            device='CPU'\n",
    "    return strategy, device\n",
    "\n",
    "\n",
    "strategy, CFG.device = get_device()\n",
    "CFG.replicas = strategy.num_replicas_in_sync"
   ]
  },
  {
   "cell_type": "code",
   "execution_count": 8,
   "id": "37365e90-1081-43cd-83ca-f0a855c36e84",
   "metadata": {},
   "outputs": [
    {
     "data": {
      "text/html": [
       "<div>\n",
       "<style scoped>\n",
       "    .dataframe tbody tr th:only-of-type {\n",
       "        vertical-align: middle;\n",
       "    }\n",
       "\n",
       "    .dataframe tbody tr th {\n",
       "        vertical-align: top;\n",
       "    }\n",
       "\n",
       "    .dataframe thead th {\n",
       "        text-align: right;\n",
       "    }\n",
       "</style>\n",
       "<table border=\"1\" class=\"dataframe\">\n",
       "  <thead>\n",
       "    <tr style=\"text-align: right;\">\n",
       "      <th></th>\n",
       "      <th>prompt</th>\n",
       "      <th>A</th>\n",
       "      <th>B</th>\n",
       "      <th>C</th>\n",
       "      <th>D</th>\n",
       "      <th>E</th>\n",
       "      <th>answer</th>\n",
       "    </tr>\n",
       "  </thead>\n",
       "  <tbody>\n",
       "    <tr>\n",
       "      <th>0</th>\n",
       "      <td>Who is the dean of the University of Central F...</td>\n",
       "      <td>John Doe</td>\n",
       "      <td>Michael Georgiopoulos</td>\n",
       "      <td>Jane Smith</td>\n",
       "      <td>Robert Johnson</td>\n",
       "      <td>David Brown</td>\n",
       "      <td>B</td>\n",
       "    </tr>\n",
       "    <tr>\n",
       "      <th>1</th>\n",
       "      <td>What degrees does the college offer?</td>\n",
       "      <td>Engineering and computer science</td>\n",
       "      <td>Business and economics</td>\n",
       "      <td>Psychology and sociology</td>\n",
       "      <td>Mathematics and statistics</td>\n",
       "      <td>Arts and humanities</td>\n",
       "      <td>A</td>\n",
       "    </tr>\n",
       "    <tr>\n",
       "      <th>2</th>\n",
       "      <td>How many undergraduate and graduate students w...</td>\n",
       "      <td>Over 5,000</td>\n",
       "      <td>Over 10,000</td>\n",
       "      <td>Over 7,500</td>\n",
       "      <td>Over 3,000</td>\n",
       "      <td>Over 15,000</td>\n",
       "      <td>C</td>\n",
       "    </tr>\n",
       "    <tr>\n",
       "      <th>3</th>\n",
       "      <td>What is the University of Central Florida list...</td>\n",
       "      <td>A liberal arts college</td>\n",
       "      <td>A research university</td>\n",
       "      <td>An Ivy League institution</td>\n",
       "      <td>A community college</td>\n",
       "      <td>A vocational school</td>\n",
       "      <td>B</td>\n",
       "    </tr>\n",
       "    <tr>\n",
       "      <th>4</th>\n",
       "      <td>What are some of the research contributions ma...</td>\n",
       "      <td>Architecture and design</td>\n",
       "      <td>Medicine and healthcare</td>\n",
       "      <td>Environmental science</td>\n",
       "      <td>Modeling and simulation</td>\n",
       "      <td>Linguistics and literature</td>\n",
       "      <td>D</td>\n",
       "    </tr>\n",
       "  </tbody>\n",
       "</table>\n",
       "</div>"
      ],
      "text/plain": [
       "                                              prompt  \\\n",
       "0  Who is the dean of the University of Central F...   \n",
       "1               What degrees does the college offer?   \n",
       "2  How many undergraduate and graduate students w...   \n",
       "3  What is the University of Central Florida list...   \n",
       "4  What are some of the research contributions ma...   \n",
       "\n",
       "                                  A                        B  \\\n",
       "0                          John Doe    Michael Georgiopoulos   \n",
       "1  Engineering and computer science   Business and economics   \n",
       "2                        Over 5,000              Over 10,000   \n",
       "3            A liberal arts college    A research university   \n",
       "4           Architecture and design  Medicine and healthcare   \n",
       "\n",
       "                           C                           D  \\\n",
       "0                 Jane Smith              Robert Johnson   \n",
       "1   Psychology and sociology  Mathematics and statistics   \n",
       "2                 Over 7,500                  Over 3,000   \n",
       "3  An Ivy League institution         A community college   \n",
       "4      Environmental science     Modeling and simulation   \n",
       "\n",
       "                            E answer  \n",
       "0                 David Brown      B  \n",
       "1         Arts and humanities      A  \n",
       "2                 Over 15,000      C  \n",
       "3         A vocational school      B  \n",
       "4  Linguistics and literature      D  "
      ]
     },
     "execution_count": 8,
     "metadata": {},
     "output_type": "execute_result"
    }
   ],
   "source": [
    "train_df = pd.read_csv(\"../data/train_extra_data.csv\")\n",
    "train_df.head()"
   ]
  },
  {
   "cell_type": "code",
   "execution_count": null,
   "id": "33b4d884-6a24-449d-8a34-8ce4514a769b",
   "metadata": {},
   "outputs": [],
   "source": []
  },
  {
   "cell_type": "code",
   "execution_count": null,
   "id": "ed737986-53da-491e-a2ad-9644caeb6a04",
   "metadata": {},
   "outputs": [],
   "source": []
  },
  {
   "cell_type": "code",
   "execution_count": null,
   "id": "3c97087b-d706-4dbc-ab3f-2441952e28d9",
   "metadata": {},
   "outputs": [],
   "source": []
  },
  {
   "cell_type": "code",
   "execution_count": null,
   "id": "ab042977-f902-42dc-a6dc-31c115e6e6e4",
   "metadata": {},
   "outputs": [],
   "source": []
  },
  {
   "cell_type": "code",
   "execution_count": null,
   "id": "4ab97bfa-e5f1-4fac-a214-ad8c581c16e2",
   "metadata": {},
   "outputs": [],
   "source": []
  },
  {
   "cell_type": "code",
   "execution_count": null,
   "id": "29964385-ee2e-4a12-9fcc-e8dff59b8e20",
   "metadata": {},
   "outputs": [],
   "source": []
  },
  {
   "cell_type": "code",
   "execution_count": null,
   "id": "375e7809-e89f-4d1c-9b22-b84d88a81338",
   "metadata": {},
   "outputs": [],
   "source": []
  }
 ],
 "metadata": {
  "kernelspec": {
   "display_name": "Python 3 (ipykernel)",
   "language": "python",
   "name": "python3"
  },
  "language_info": {
   "codemirror_mode": {
    "name": "ipython",
    "version": 3
   },
   "file_extension": ".py",
   "mimetype": "text/x-python",
   "name": "python",
   "nbconvert_exporter": "python",
   "pygments_lexer": "ipython3",
   "version": "3.10.0"
  }
 },
 "nbformat": 4,
 "nbformat_minor": 5
}
